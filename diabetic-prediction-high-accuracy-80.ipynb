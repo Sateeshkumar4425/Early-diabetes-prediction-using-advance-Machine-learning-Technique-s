{
 "cells": [
  {
   "cell_type": "code",
   "execution_count": 5,
   "id": "1039be4f",
   "metadata": {
    "_cell_guid": "b1076dfc-b9ad-4769-8c92-a6c4dae69d19",
    "_uuid": "8f2839f25d086af736a60e9eeb907d3b93b6e0e5",
    "execution": {
     "iopub.execute_input": "2024-12-16T17:31:35.923950Z",
     "iopub.status.busy": "2024-12-16T17:31:35.923562Z",
     "iopub.status.idle": "2024-12-16T17:31:36.752138Z",
     "shell.execute_reply": "2024-12-16T17:31:36.751052Z"
    },
    "papermill": {
     "duration": 0.838144,
     "end_time": "2024-12-16T17:31:36.755036",
     "exception": false,
     "start_time": "2024-12-16T17:31:35.916892",
     "status": "completed"
    },
    "tags": []
   },
   "outputs": [],
   "source": [
    "# This Python 3 environment comes with many helpful analytics libraries installed\n",
    "# It is defined by the kaggle/python Docker image: https://github.com/kaggle/docker-python\n",
    "# For example, here's several helpful packages to load\n",
    "\n",
    "import numpy as np # linear algebra\n",
    "import pandas as pd # data processing, CSV file I/O (e.g. pd.read_csv)\n",
    "\n",
    "# Input data files are available in the read-only \"../input/\" directory\n",
    "# For example, running this (by clicking run or pressing Shift+Enter) will list all files under the input directory\n",
    "\n",
    "import os\n",
    "for dirname, _, filenames in os.walk('/kaggle/input'):\n",
    "    for filename in filenames:\n",
    "        print(os.path.join(dirname, filename))\n",
    "\n",
    "# You can write up to 20GB to the current directory (/kaggle/working/) that gets preserved as output when you create a version using \"Save & Run All\" \n",
    "# You can also write temporary files to /kaggle/temp/, but they won't be saved outside of the current session"
   ]
  },
  {
   "cell_type": "markdown",
   "id": "21f27694",
   "metadata": {
    "papermill": {
     "duration": 0.00475,
     "end_time": "2024-12-16T17:31:36.765673",
     "exception": false,
     "start_time": "2024-12-16T17:31:36.760923",
     "status": "completed"
    },
    "tags": []
   },
   "source": [
    "this code was by Salim \n",
    "# 1-import library"
   ]
  },
  {
   "cell_type": "code",
   "execution_count": 6,
   "id": "5cc935ec",
   "metadata": {
    "execution": {
     "iopub.execute_input": "2024-12-16T17:31:36.776840Z",
     "iopub.status.busy": "2024-12-16T17:31:36.776302Z",
     "iopub.status.idle": "2024-12-16T17:31:38.558783Z",
     "shell.execute_reply": "2024-12-16T17:31:38.557891Z"
    },
    "papermill": {
     "duration": 1.790741,
     "end_time": "2024-12-16T17:31:38.561150",
     "exception": false,
     "start_time": "2024-12-16T17:31:36.770409",
     "status": "completed"
    },
    "tags": []
   },
   "outputs": [],
   "source": [
    "import numpy as np\n",
    "import pandas as pd\n",
    "from sklearn.model_selection import train_test_split, GridSearchCV\n",
    "from sklearn.preprocessing import StandardScaler\n",
    "from sklearn.impute import SimpleImputer\n",
    "from sklearn.metrics import classification_report, confusion_matrix, roc_auc_score, accuracy_score\n",
    "from sklearn.ensemble import RandomForestClassifier\n",
    "from imblearn.over_sampling import SMOTE"
   ]
  },
  {
   "cell_type": "markdown",
   "id": "2b9cde8f",
   "metadata": {
    "papermill": {
     "duration": 0.004558,
     "end_time": "2024-12-16T17:31:38.571973",
     "exception": false,
     "start_time": "2024-12-16T17:31:38.567415",
     "status": "completed"
    },
    "tags": []
   },
   "source": [
    "# Load Dataset"
   ]
  },
  {
   "cell_type": "code",
   "execution_count": 7,
   "id": "a20d9ef9",
   "metadata": {
    "execution": {
     "iopub.execute_input": "2024-12-16T17:31:38.582953Z",
     "iopub.status.busy": "2024-12-16T17:31:38.582404Z",
     "iopub.status.idle": "2024-12-16T17:31:38.602846Z",
     "shell.execute_reply": "2024-12-16T17:31:38.601954Z"
    },
    "papermill": {
     "duration": 0.028381,
     "end_time": "2024-12-16T17:31:38.604912",
     "exception": false,
     "start_time": "2024-12-16T17:31:38.576531",
     "status": "completed"
    },
    "tags": []
   },
   "outputs": [],
   "source": [
    "data_path = \"diabetes.csv\"\n",
    "columns = [\n",
    "    'Pregnancies', 'Glucose', 'BloodPressure', 'SkinThickness', 'Insulin', \n",
    "    'BMI', 'DiabetesPedigreeFunction', 'Age', 'Outcome'\n",
    "]\n",
    "data = pd.read_csv(data_path, header=0, names=columns)  # Replace header=None with header=0\n",
    "data = data.apply(pd.to_numeric, errors='coerce')  # Force numeric conversion, setting non-numeric values to NaN"
   ]
  },
  {
   "cell_type": "markdown",
   "id": "18538c5e",
   "metadata": {
    "papermill": {
     "duration": 0.005114,
     "end_time": "2024-12-16T17:31:38.614950",
     "exception": false,
     "start_time": "2024-12-16T17:31:38.609836",
     "status": "completed"
    },
    "tags": []
   },
   "source": [
    "# Handle Missing Values (replace 0 with NaN for specific columns) :"
   ]
  },
  {
   "cell_type": "code",
   "execution_count": 8,
   "id": "5ff5c846",
   "metadata": {
    "execution": {
     "iopub.execute_input": "2024-12-16T17:31:38.625837Z",
     "iopub.status.busy": "2024-12-16T17:31:38.625397Z",
     "iopub.status.idle": "2024-12-16T17:31:38.645080Z",
     "shell.execute_reply": "2024-12-16T17:31:38.644318Z"
    },
    "papermill": {
     "duration": 0.027305,
     "end_time": "2024-12-16T17:31:38.647103",
     "exception": false,
     "start_time": "2024-12-16T17:31:38.619798",
     "status": "completed"
    },
    "tags": []
   },
   "outputs": [],
   "source": [
    "missing_columns = ['Glucose', 'BloodPressure', 'SkinThickness', 'Insulin', 'BMI']\n",
    "data[missing_columns] = data[missing_columns].replace(0, np.nan)"
   ]
  },
  {
   "cell_type": "code",
   "execution_count": 1,
   "id": "66412ee5",
   "metadata": {},
   "outputs": [
    {
     "ename": "ModuleNotFoundError",
     "evalue": "No module named 'matplotlib.backends.registry'",
     "output_type": "error",
     "traceback": [
      "\u001b[1;31m---------------------------------------------------------------------------\u001b[0m",
      "\u001b[1;31mModuleNotFoundError\u001b[0m                       Traceback (most recent call last)",
      "Cell \u001b[1;32mIn[1], line 1\u001b[0m\n\u001b[1;32m----> 1\u001b[0m \u001b[38;5;28;01mimport\u001b[39;00m \u001b[38;5;21;01mmatplotlib\u001b[39;00m\u001b[38;5;21;01m.\u001b[39;00m\u001b[38;5;21;01mpyplot\u001b[39;00m \u001b[38;5;28;01mas\u001b[39;00m \u001b[38;5;21;01mplt\u001b[39;00m\n",
      "File \u001b[1;32mc:\\Users\\saidi\\AppData\\Local\\Programs\\Python\\Python311\\Lib\\site-packages\\matplotlib\\__init__.py:159\u001b[0m\n\u001b[0;32m    155\u001b[0m \u001b[38;5;28;01mfrom\u001b[39;00m \u001b[38;5;21;01mpackaging\u001b[39;00m\u001b[38;5;21;01m.\u001b[39;00m\u001b[38;5;21;01mversion\u001b[39;00m \u001b[38;5;28;01mimport\u001b[39;00m parse \u001b[38;5;28;01mas\u001b[39;00m parse_version\n\u001b[0;32m    157\u001b[0m \u001b[38;5;66;03m# cbook must import matplotlib only within function\u001b[39;00m\n\u001b[0;32m    158\u001b[0m \u001b[38;5;66;03m# definitions, so it is safe to import from it here.\u001b[39;00m\n\u001b[1;32m--> 159\u001b[0m \u001b[38;5;28;01mfrom\u001b[39;00m \u001b[38;5;21;01m.\u001b[39;00m \u001b[38;5;28;01mimport\u001b[39;00m _api, _version, cbook, _docstring, rcsetup\n\u001b[0;32m    160\u001b[0m \u001b[38;5;28;01mfrom\u001b[39;00m \u001b[38;5;21;01mmatplotlib\u001b[39;00m\u001b[38;5;21;01m.\u001b[39;00m\u001b[38;5;21;01mcbook\u001b[39;00m \u001b[38;5;28;01mimport\u001b[39;00m sanitize_sequence\n\u001b[0;32m    161\u001b[0m \u001b[38;5;28;01mfrom\u001b[39;00m \u001b[38;5;21;01mmatplotlib\u001b[39;00m\u001b[38;5;21;01m.\u001b[39;00m\u001b[38;5;21;01m_api\u001b[39;00m \u001b[38;5;28;01mimport\u001b[39;00m MatplotlibDeprecationWarning\n",
      "File \u001b[1;32mc:\\Users\\saidi\\AppData\\Local\\Programs\\Python\\Python311\\Lib\\site-packages\\matplotlib\\rcsetup.py:26\u001b[0m\n\u001b[0;32m     23\u001b[0m \u001b[38;5;28;01mimport\u001b[39;00m \u001b[38;5;21;01mnumpy\u001b[39;00m \u001b[38;5;28;01mas\u001b[39;00m \u001b[38;5;21;01mnp\u001b[39;00m\n\u001b[0;32m     25\u001b[0m \u001b[38;5;28;01mfrom\u001b[39;00m \u001b[38;5;21;01mmatplotlib\u001b[39;00m \u001b[38;5;28;01mimport\u001b[39;00m _api, cbook\n\u001b[1;32m---> 26\u001b[0m \u001b[38;5;28;01mfrom\u001b[39;00m \u001b[38;5;21;01mmatplotlib\u001b[39;00m\u001b[38;5;21;01m.\u001b[39;00m\u001b[38;5;21;01mbackends\u001b[39;00m \u001b[38;5;28;01mimport\u001b[39;00m BackendFilter, backend_registry\n\u001b[0;32m     27\u001b[0m \u001b[38;5;28;01mfrom\u001b[39;00m \u001b[38;5;21;01mmatplotlib\u001b[39;00m\u001b[38;5;21;01m.\u001b[39;00m\u001b[38;5;21;01mcbook\u001b[39;00m \u001b[38;5;28;01mimport\u001b[39;00m ls_mapper\n\u001b[0;32m     28\u001b[0m \u001b[38;5;28;01mfrom\u001b[39;00m \u001b[38;5;21;01mmatplotlib\u001b[39;00m\u001b[38;5;21;01m.\u001b[39;00m\u001b[38;5;21;01mcolors\u001b[39;00m \u001b[38;5;28;01mimport\u001b[39;00m Colormap, is_color_like\n",
      "File \u001b[1;32mc:\\Users\\saidi\\AppData\\Local\\Programs\\Python\\Python311\\Lib\\site-packages\\matplotlib\\backends\\__init__.py:1\u001b[0m\n\u001b[1;32m----> 1\u001b[0m \u001b[38;5;28;01mfrom\u001b[39;00m \u001b[38;5;21;01m.\u001b[39;00m\u001b[38;5;21;01mregistry\u001b[39;00m \u001b[38;5;28;01mimport\u001b[39;00m BackendFilter, backend_registry  \u001b[38;5;66;03m# noqa: F401\u001b[39;00m\n\u001b[0;32m      3\u001b[0m \u001b[38;5;66;03m# NOTE: plt.switch_backend() (called at import time) will add a \"backend\"\u001b[39;00m\n\u001b[0;32m      4\u001b[0m \u001b[38;5;66;03m# attribute here for backcompat.\u001b[39;00m\n\u001b[0;32m      5\u001b[0m _QT_FORCE_QT5_BINDING \u001b[38;5;241m=\u001b[39m \u001b[38;5;28;01mFalse\u001b[39;00m\n",
      "\u001b[1;31mModuleNotFoundError\u001b[0m: No module named 'matplotlib.backends.registry'"
     ]
    }
   ],
   "source": [
    "import matplotlib.pyplot as plt"
   ]
  },
  {
   "cell_type": "markdown",
   "id": "16d4c8a4",
   "metadata": {
    "papermill": {
     "duration": 0.004435,
     "end_time": "2024-12-16T17:31:38.656284",
     "exception": false,
     "start_time": "2024-12-16T17:31:38.651849",
     "status": "completed"
    },
    "tags": []
   },
   "source": [
    "# Impute Missing Values with Median :\n"
   ]
  },
  {
   "cell_type": "code",
   "execution_count": 9,
   "id": "47752b8d",
   "metadata": {
    "execution": {
     "iopub.execute_input": "2024-12-16T17:31:38.666869Z",
     "iopub.status.busy": "2024-12-16T17:31:38.666207Z",
     "iopub.status.idle": "2024-12-16T17:31:38.677968Z",
     "shell.execute_reply": "2024-12-16T17:31:38.677190Z"
    },
    "papermill": {
     "duration": 0.019186,
     "end_time": "2024-12-16T17:31:38.679958",
     "exception": false,
     "start_time": "2024-12-16T17:31:38.660772",
     "status": "completed"
    },
    "tags": []
   },
   "outputs": [],
   "source": [
    "imputer = SimpleImputer(strategy='median')\n",
    "data[missing_columns] = imputer.fit_transform(data[missing_columns])"
   ]
  },
  {
   "cell_type": "markdown",
   "id": "6d1f70fa",
   "metadata": {
    "papermill": {
     "duration": 0.004459,
     "end_time": "2024-12-16T17:31:38.689039",
     "exception": false,
     "start_time": "2024-12-16T17:31:38.684580",
     "status": "completed"
    },
    "tags": []
   },
   "source": [
    "# Split Features and Target :\n"
   ]
  },
  {
   "cell_type": "code",
   "execution_count": 10,
   "id": "e185e95d",
   "metadata": {
    "execution": {
     "iopub.execute_input": "2024-12-16T17:31:38.700234Z",
     "iopub.status.busy": "2024-12-16T17:31:38.699227Z",
     "iopub.status.idle": "2024-12-16T17:31:38.705601Z",
     "shell.execute_reply": "2024-12-16T17:31:38.704567Z"
    },
    "papermill": {
     "duration": 0.014242,
     "end_time": "2024-12-16T17:31:38.707758",
     "exception": false,
     "start_time": "2024-12-16T17:31:38.693516",
     "status": "completed"
    },
    "tags": []
   },
   "outputs": [],
   "source": [
    "X = data.drop('Outcome', axis=1)\n",
    "y = data['Outcome']"
   ]
  },
  {
   "cell_type": "markdown",
   "id": "4adab510",
   "metadata": {
    "papermill": {
     "duration": 0.004664,
     "end_time": "2024-12-16T17:31:38.717361",
     "exception": false,
     "start_time": "2024-12-16T17:31:38.712697",
     "status": "completed"
    },
    "tags": []
   },
   "source": [
    "# Handle Class Imbalance :"
   ]
  },
  {
   "cell_type": "code",
   "execution_count": 11,
   "id": "18ec8152",
   "metadata": {
    "execution": {
     "iopub.execute_input": "2024-12-16T17:31:38.728102Z",
     "iopub.status.busy": "2024-12-16T17:31:38.727737Z",
     "iopub.status.idle": "2024-12-16T17:31:38.741555Z",
     "shell.execute_reply": "2024-12-16T17:31:38.740619Z"
    },
    "papermill": {
     "duration": 0.021587,
     "end_time": "2024-12-16T17:31:38.743490",
     "exception": false,
     "start_time": "2024-12-16T17:31:38.721903",
     "status": "completed"
    },
    "tags": []
   },
   "outputs": [],
   "source": [
    "smote = SMOTE(random_state=42)\n",
    "X_resampled, y_resampled = smote.fit_resample(X, y)"
   ]
  },
  {
   "cell_type": "markdown",
   "id": "6bbb14f1",
   "metadata": {
    "papermill": {
     "duration": 0.004461,
     "end_time": "2024-12-16T17:31:38.752906",
     "exception": false,
     "start_time": "2024-12-16T17:31:38.748445",
     "status": "completed"
    },
    "tags": []
   },
   "source": [
    "# Train-Test Split :"
   ]
  },
  {
   "cell_type": "code",
   "execution_count": 12,
   "id": "3cb1f50d",
   "metadata": {
    "execution": {
     "iopub.execute_input": "2024-12-16T17:31:38.763555Z",
     "iopub.status.busy": "2024-12-16T17:31:38.763177Z",
     "iopub.status.idle": "2024-12-16T17:31:38.772091Z",
     "shell.execute_reply": "2024-12-16T17:31:38.771149Z"
    },
    "papermill": {
     "duration": 0.016655,
     "end_time": "2024-12-16T17:31:38.774057",
     "exception": false,
     "start_time": "2024-12-16T17:31:38.757402",
     "status": "completed"
    },
    "tags": []
   },
   "outputs": [],
   "source": [
    "X_train, X_test, y_train, y_test = train_test_split(X_resampled, y_resampled, test_size=0.2, random_state=42, stratify=y_resampled)"
   ]
  },
  {
   "cell_type": "markdown",
   "id": "7b7932bd",
   "metadata": {
    "papermill": {
     "duration": 0.004552,
     "end_time": "2024-12-16T17:31:38.783515",
     "exception": false,
     "start_time": "2024-12-16T17:31:38.778963",
     "status": "completed"
    },
    "tags": []
   },
   "source": [
    "# Feature Scaling :"
   ]
  },
  {
   "cell_type": "code",
   "execution_count": 13,
   "id": "ee86c5cd",
   "metadata": {
    "execution": {
     "iopub.execute_input": "2024-12-16T17:31:38.794745Z",
     "iopub.status.busy": "2024-12-16T17:31:38.793861Z",
     "iopub.status.idle": "2024-12-16T17:31:38.804153Z",
     "shell.execute_reply": "2024-12-16T17:31:38.803149Z"
    },
    "papermill": {
     "duration": 0.018008,
     "end_time": "2024-12-16T17:31:38.806100",
     "exception": false,
     "start_time": "2024-12-16T17:31:38.788092",
     "status": "completed"
    },
    "tags": []
   },
   "outputs": [],
   "source": [
    "scaler = StandardScaler()\n",
    "X_train = scaler.fit_transform(X_train)\n",
    "X_test = scaler.transform(X_test)\n"
   ]
  },
  {
   "cell_type": "markdown",
   "id": "e2005c63",
   "metadata": {
    "papermill": {
     "duration": 0.004505,
     "end_time": "2024-12-16T17:31:38.815319",
     "exception": false,
     "start_time": "2024-12-16T17:31:38.810814",
     "status": "completed"
    },
    "tags": []
   },
   "source": [
    "# Random Forest Classifier with Hyperparameter Tuning :"
   ]
  },
  {
   "cell_type": "code",
   "execution_count": 14,
   "id": "e23a31e5",
   "metadata": {
    "execution": {
     "iopub.execute_input": "2024-12-16T17:31:38.826076Z",
     "iopub.status.busy": "2024-12-16T17:31:38.825695Z",
     "iopub.status.idle": "2024-12-16T17:32:36.291557Z",
     "shell.execute_reply": "2024-12-16T17:32:36.290491Z"
    },
    "papermill": {
     "duration": 57.477957,
     "end_time": "2024-12-16T17:32:36.297925",
     "exception": false,
     "start_time": "2024-12-16T17:31:38.819968",
     "status": "completed"
    },
    "tags": []
   },
   "outputs": [
    {
     "data": {
      "text/html": [
       "<style>#sk-container-id-1 {color: black;background-color: white;}#sk-container-id-1 pre{padding: 0;}#sk-container-id-1 div.sk-toggleable {background-color: white;}#sk-container-id-1 label.sk-toggleable__label {cursor: pointer;display: block;width: 100%;margin-bottom: 0;padding: 0.3em;box-sizing: border-box;text-align: center;}#sk-container-id-1 label.sk-toggleable__label-arrow:before {content: \"▸\";float: left;margin-right: 0.25em;color: #696969;}#sk-container-id-1 label.sk-toggleable__label-arrow:hover:before {color: black;}#sk-container-id-1 div.sk-estimator:hover label.sk-toggleable__label-arrow:before {color: black;}#sk-container-id-1 div.sk-toggleable__content {max-height: 0;max-width: 0;overflow: hidden;text-align: left;background-color: #f0f8ff;}#sk-container-id-1 div.sk-toggleable__content pre {margin: 0.2em;color: black;border-radius: 0.25em;background-color: #f0f8ff;}#sk-container-id-1 input.sk-toggleable__control:checked~div.sk-toggleable__content {max-height: 200px;max-width: 100%;overflow: auto;}#sk-container-id-1 input.sk-toggleable__control:checked~label.sk-toggleable__label-arrow:before {content: \"▾\";}#sk-container-id-1 div.sk-estimator input.sk-toggleable__control:checked~label.sk-toggleable__label {background-color: #d4ebff;}#sk-container-id-1 div.sk-label input.sk-toggleable__control:checked~label.sk-toggleable__label {background-color: #d4ebff;}#sk-container-id-1 input.sk-hidden--visually {border: 0;clip: rect(1px 1px 1px 1px);clip: rect(1px, 1px, 1px, 1px);height: 1px;margin: -1px;overflow: hidden;padding: 0;position: absolute;width: 1px;}#sk-container-id-1 div.sk-estimator {font-family: monospace;background-color: #f0f8ff;border: 1px dotted black;border-radius: 0.25em;box-sizing: border-box;margin-bottom: 0.5em;}#sk-container-id-1 div.sk-estimator:hover {background-color: #d4ebff;}#sk-container-id-1 div.sk-parallel-item::after {content: \"\";width: 100%;border-bottom: 1px solid gray;flex-grow: 1;}#sk-container-id-1 div.sk-label:hover label.sk-toggleable__label {background-color: #d4ebff;}#sk-container-id-1 div.sk-serial::before {content: \"\";position: absolute;border-left: 1px solid gray;box-sizing: border-box;top: 0;bottom: 0;left: 50%;z-index: 0;}#sk-container-id-1 div.sk-serial {display: flex;flex-direction: column;align-items: center;background-color: white;padding-right: 0.2em;padding-left: 0.2em;position: relative;}#sk-container-id-1 div.sk-item {position: relative;z-index: 1;}#sk-container-id-1 div.sk-parallel {display: flex;align-items: stretch;justify-content: center;background-color: white;position: relative;}#sk-container-id-1 div.sk-item::before, #sk-container-id-1 div.sk-parallel-item::before {content: \"\";position: absolute;border-left: 1px solid gray;box-sizing: border-box;top: 0;bottom: 0;left: 50%;z-index: -1;}#sk-container-id-1 div.sk-parallel-item {display: flex;flex-direction: column;z-index: 1;position: relative;background-color: white;}#sk-container-id-1 div.sk-parallel-item:first-child::after {align-self: flex-end;width: 50%;}#sk-container-id-1 div.sk-parallel-item:last-child::after {align-self: flex-start;width: 50%;}#sk-container-id-1 div.sk-parallel-item:only-child::after {width: 0;}#sk-container-id-1 div.sk-dashed-wrapped {border: 1px dashed gray;margin: 0 0.4em 0.5em 0.4em;box-sizing: border-box;padding-bottom: 0.4em;background-color: white;}#sk-container-id-1 div.sk-label label {font-family: monospace;font-weight: bold;display: inline-block;line-height: 1.2em;}#sk-container-id-1 div.sk-label-container {text-align: center;}#sk-container-id-1 div.sk-container {/* jupyter's `normalize.less` sets `[hidden] { display: none; }` but bootstrap.min.css set `[hidden] { display: none !important; }` so we also need the `!important` here to be able to override the default hidden behavior on the sphinx rendered scikit-learn.org. See: https://github.com/scikit-learn/scikit-learn/issues/21755 */display: inline-block !important;position: relative;}#sk-container-id-1 div.sk-text-repr-fallback {display: none;}</style><div id=\"sk-container-id-1\" class=\"sk-top-container\"><div class=\"sk-text-repr-fallback\"><pre>GridSearchCV(cv=5, estimator=RandomForestClassifier(random_state=42),\n",
       "             param_grid={&#x27;max_depth&#x27;: [None, 10, 20],\n",
       "                         &#x27;min_samples_split&#x27;: [2, 5, 10],\n",
       "                         &#x27;n_estimators&#x27;: [100, 200, 300]},\n",
       "             scoring=&#x27;accuracy&#x27;)</pre><b>In a Jupyter environment, please rerun this cell to show the HTML representation or trust the notebook. <br />On GitHub, the HTML representation is unable to render, please try loading this page with nbviewer.org.</b></div><div class=\"sk-container\" hidden><div class=\"sk-item sk-dashed-wrapped\"><div class=\"sk-label-container\"><div class=\"sk-label sk-toggleable\"><input class=\"sk-toggleable__control sk-hidden--visually\" id=\"sk-estimator-id-1\" type=\"checkbox\" ><label for=\"sk-estimator-id-1\" class=\"sk-toggleable__label sk-toggleable__label-arrow\">GridSearchCV</label><div class=\"sk-toggleable__content\"><pre>GridSearchCV(cv=5, estimator=RandomForestClassifier(random_state=42),\n",
       "             param_grid={&#x27;max_depth&#x27;: [None, 10, 20],\n",
       "                         &#x27;min_samples_split&#x27;: [2, 5, 10],\n",
       "                         &#x27;n_estimators&#x27;: [100, 200, 300]},\n",
       "             scoring=&#x27;accuracy&#x27;)</pre></div></div></div><div class=\"sk-parallel\"><div class=\"sk-parallel-item\"><div class=\"sk-item\"><div class=\"sk-label-container\"><div class=\"sk-label sk-toggleable\"><input class=\"sk-toggleable__control sk-hidden--visually\" id=\"sk-estimator-id-2\" type=\"checkbox\" ><label for=\"sk-estimator-id-2\" class=\"sk-toggleable__label sk-toggleable__label-arrow\">estimator: RandomForestClassifier</label><div class=\"sk-toggleable__content\"><pre>RandomForestClassifier(random_state=42)</pre></div></div></div><div class=\"sk-serial\"><div class=\"sk-item\"><div class=\"sk-estimator sk-toggleable\"><input class=\"sk-toggleable__control sk-hidden--visually\" id=\"sk-estimator-id-3\" type=\"checkbox\" ><label for=\"sk-estimator-id-3\" class=\"sk-toggleable__label sk-toggleable__label-arrow\">RandomForestClassifier</label><div class=\"sk-toggleable__content\"><pre>RandomForestClassifier(random_state=42)</pre></div></div></div></div></div></div></div></div></div></div>"
      ],
      "text/plain": [
       "GridSearchCV(cv=5, estimator=RandomForestClassifier(random_state=42),\n",
       "             param_grid={'max_depth': [None, 10, 20],\n",
       "                         'min_samples_split': [2, 5, 10],\n",
       "                         'n_estimators': [100, 200, 300]},\n",
       "             scoring='accuracy')"
      ]
     },
     "execution_count": 14,
     "metadata": {},
     "output_type": "execute_result"
    }
   ],
   "source": [
    "rf_params = {\n",
    "    'n_estimators': [100, 200, 300],\n",
    "    'max_depth': [None, 10, 20],\n",
    "    'min_samples_split': [2, 5, 10]\n",
    "}\n",
    "\n",
    "rf = RandomForestClassifier(random_state=42)\n",
    "grid = GridSearchCV(rf, rf_params, cv=5, scoring='accuracy')\n",
    "grid.fit(X_train, y_train)"
   ]
  },
  {
   "cell_type": "markdown",
   "id": "7feff2b6",
   "metadata": {
    "papermill": {
     "duration": 0.004679,
     "end_time": "2024-12-16T17:32:36.307558",
     "exception": false,
     "start_time": "2024-12-16T17:32:36.302879",
     "status": "completed"
    },
    "tags": []
   },
   "source": [
    "# Best Model :"
   ]
  },
  {
   "cell_type": "code",
   "execution_count": 15,
   "id": "70c8bf98",
   "metadata": {
    "execution": {
     "iopub.execute_input": "2024-12-16T17:32:36.318775Z",
     "iopub.status.busy": "2024-12-16T17:32:36.318060Z",
     "iopub.status.idle": "2024-12-16T17:32:36.323049Z",
     "shell.execute_reply": "2024-12-16T17:32:36.322093Z"
    },
    "papermill": {
     "duration": 0.012951,
     "end_time": "2024-12-16T17:32:36.325244",
     "exception": false,
     "start_time": "2024-12-16T17:32:36.312293",
     "status": "completed"
    },
    "tags": []
   },
   "outputs": [
    {
     "name": "stdout",
     "output_type": "stream",
     "text": [
      "Best Parameters: {'max_depth': None, 'min_samples_split': 5, 'n_estimators': 100}\n",
      "Best Cross-Validated Accuracy: 0.8075\n"
     ]
    }
   ],
   "source": [
    "best_rf = grid.best_estimator_\n",
    "print(f\"Best Parameters: {grid.best_params_}\")\n",
    "print(f\"Best Cross-Validated Accuracy: {grid.best_score_:.4f}\")"
   ]
  },
  {
   "cell_type": "markdown",
   "id": "3f8c0e7d",
   "metadata": {
    "papermill": {
     "duration": 0.005684,
     "end_time": "2024-12-16T17:32:36.335840",
     "exception": false,
     "start_time": "2024-12-16T17:32:36.330156",
     "status": "completed"
    },
    "tags": []
   },
   "source": [
    "# Evaluate on Test Set :"
   ]
  },
  {
   "cell_type": "code",
   "execution_count": 16,
   "id": "d74975de",
   "metadata": {
    "execution": {
     "iopub.execute_input": "2024-12-16T17:32:36.347462Z",
     "iopub.status.busy": "2024-12-16T17:32:36.347089Z",
     "iopub.status.idle": "2024-12-16T17:32:36.593979Z",
     "shell.execute_reply": "2024-12-16T17:32:36.592991Z"
    },
    "papermill": {
     "duration": 0.255698,
     "end_time": "2024-12-16T17:32:36.596498",
     "exception": false,
     "start_time": "2024-12-16T17:32:36.340800",
     "status": "completed"
    },
    "tags": []
   },
   "outputs": [],
   "source": [
    "best_rf.fit(X_train, y_train)\n",
    "y_pred = best_rf.predict(X_test)\n",
    "y_proba = best_rf.predict_proba(X_test)[:, 1]"
   ]
  },
  {
   "cell_type": "markdown",
   "id": "a0e1432f",
   "metadata": {
    "papermill": {
     "duration": 0.004783,
     "end_time": "2024-12-16T17:32:36.606607",
     "exception": false,
     "start_time": "2024-12-16T17:32:36.601824",
     "status": "completed"
    },
    "tags": []
   },
   "source": [
    "# Metrics :"
   ]
  },
  {
   "cell_type": "code",
   "execution_count": 17,
   "id": "97eb26c8",
   "metadata": {
    "execution": {
     "iopub.execute_input": "2024-12-16T17:32:36.618031Z",
     "iopub.status.busy": "2024-12-16T17:32:36.617694Z",
     "iopub.status.idle": "2024-12-16T17:32:36.639477Z",
     "shell.execute_reply": "2024-12-16T17:32:36.638346Z"
    },
    "papermill": {
     "duration": 0.029845,
     "end_time": "2024-12-16T17:32:36.641344",
     "exception": false,
     "start_time": "2024-12-16T17:32:36.611499",
     "status": "completed"
    },
    "tags": []
   },
   "outputs": [
    {
     "name": "stdout",
     "output_type": "stream",
     "text": [
      "\n",
      "Confusion Matrix:\n",
      "[[79 21]\n",
      " [15 85]]\n",
      "\n",
      "Classification Report:\n",
      "              precision    recall  f1-score   support\n",
      "\n",
      "           0       0.84      0.79      0.81       100\n",
      "           1       0.80      0.85      0.83       100\n",
      "\n",
      "    accuracy                           0.82       200\n",
      "   macro avg       0.82      0.82      0.82       200\n",
      "weighted avg       0.82      0.82      0.82       200\n",
      "\n",
      "Accuracy: 0.8200\n",
      "ROC-AUC: 0.9053\n"
     ]
    }
   ],
   "source": [
    "print(\"\\nConfusion Matrix:\")\n",
    "print(confusion_matrix(y_test, y_pred))\n",
    "print(\"\\nClassification Report:\")\n",
    "print(classification_report(y_test, y_pred))\n",
    "print(f\"Accuracy: {accuracy_score(y_test, y_pred):.4f}\")\n",
    "print(f\"ROC-AUC: {roc_auc_score(y_test, y_proba):.4f}\")"
   ]
  },
  {
   "cell_type": "markdown",
   "id": "8cd55744",
   "metadata": {
    "papermill": {
     "duration": 0.004923,
     "end_time": "2024-12-16T17:32:36.651709",
     "exception": false,
     "start_time": "2024-12-16T17:32:36.646786",
     "status": "completed"
    },
    "tags": []
   },
   "source": [
    "# Feature Importance :"
   ]
  },
  {
   "cell_type": "code",
   "execution_count": 18,
   "id": "f7ca26a2",
   "metadata": {
    "execution": {
     "iopub.execute_input": "2024-12-16T17:32:36.662968Z",
     "iopub.status.busy": "2024-12-16T17:32:36.662658Z",
     "iopub.status.idle": "2024-12-16T17:32:36.675066Z",
     "shell.execute_reply": "2024-12-16T17:32:36.673944Z"
    },
    "papermill": {
     "duration": 0.020385,
     "end_time": "2024-12-16T17:32:36.677030",
     "exception": false,
     "start_time": "2024-12-16T17:32:36.656645",
     "status": "completed"
    },
    "tags": []
   },
   "outputs": [
    {
     "name": "stdout",
     "output_type": "stream",
     "text": [
      "\n",
      "Feature Importances:\n",
      "Feature: Pregnancies, Importance: 0.0529\n",
      "Feature: Glucose, Importance: 0.2746\n",
      "Feature: BloodPressure, Importance: 0.0870\n",
      "Feature: SkinThickness, Importance: 0.0818\n",
      "Feature: Insulin, Importance: 0.0926\n",
      "Feature: BMI, Importance: 0.1774\n",
      "Feature: DiabetesPedigreeFunction, Importance: 0.1151\n",
      "Feature: Age, Importance: 0.1187\n"
     ]
    }
   ],
   "source": [
    "importance = best_rf.feature_importances_\n",
    "print(\"\\nFeature Importances:\")\n",
    "for i, v in enumerate(importance):\n",
    "    print(f\"Feature: {columns[i]}, Importance: {v:.4f}\")"
   ]
  },
  {
   "cell_type": "markdown",
   "id": "ab4dbabe",
   "metadata": {
    "papermill": {
     "duration": 0.004898,
     "end_time": "2024-12-16T17:32:36.687100",
     "exception": false,
     "start_time": "2024-12-16T17:32:36.682202",
     "status": "completed"
    },
    "tags": []
   },
   "source": [
    "feel free to contact me and support me through upvote "
   ]
  }
 ],
 "metadata": {
  "kaggle": {
   "accelerator": "none",
   "dataSources": [
    {
     "datasetId": 818300,
     "sourceId": 1400440,
     "sourceType": "datasetVersion"
    }
   ],
   "dockerImageVersionId": 30804,
   "isGpuEnabled": false,
   "isInternetEnabled": true,
   "language": "python",
   "sourceType": "notebook"
  },
  "kernelspec": {
   "display_name": "Python 3",
   "language": "python",
   "name": "python3"
  },
  "language_info": {
   "codemirror_mode": {
    "name": "ipython",
    "version": 3
   },
   "file_extension": ".py",
   "mimetype": "text/x-python",
   "name": "python",
   "nbconvert_exporter": "python",
   "pygments_lexer": "ipython3",
   "version": "3.11.4"
  },
  "papermill": {
   "default_parameters": {},
   "duration": 63.926757,
   "end_time": "2024-12-16T17:32:37.311652",
   "environment_variables": {},
   "exception": null,
   "input_path": "__notebook__.ipynb",
   "output_path": "__notebook__.ipynb",
   "parameters": {},
   "start_time": "2024-12-16T17:31:33.384895",
   "version": "2.6.0"
  }
 },
 "nbformat": 4,
 "nbformat_minor": 5
}
